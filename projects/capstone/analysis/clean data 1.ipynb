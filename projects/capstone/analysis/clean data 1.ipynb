{
 "cells": [
  {
   "cell_type": "code",
   "execution_count": 1,
   "metadata": {
    "collapsed": true
   },
   "outputs": [],
   "source": [
    "import numpy as np\n",
    "import pandas as pd\n",
    "import os\n",
    "from matplotlib.pylab import plt\n",
    "%matplotlib inline"
   ]
  },
  {
   "cell_type": "code",
   "execution_count": 2,
   "metadata": {
    "collapsed": true
   },
   "outputs": [],
   "source": [
    "#first merge in price index and reserve data into transaction data then merge into overall data\n",
    "def get_all_data():\n",
    "    df = pd.read_csv('../input/properties_2016.csv')\n",
    "    #read in Los Angeles price index\n",
    "    lxx_df = pd.read_csv('../input/LXXRSA.csv', parse_dates=[0])\n",
    "    #read in chinese reserves\n",
    "    res_df = pd.read_csv('../input/reserves.csv', parse_dates=[0])\n",
    "    #read in transaction data\n",
    "    trans_df = pd.read_csv('../input/train_2016.csv', parse_dates=[2])\n",
    "    #make sure theres no transaction duplicates\n",
    "    assert trans_df.drop_duplicates().shape[0] == trans_df.shape[0]\n",
    "    trans_df['merge_date'] = trans_df.transactiondate.apply(lambda v: v + pd.tseries.offsets.MonthBegin(n=0))\n",
    "    df_all = df.merge(trans_df, on='parcelid')\\\n",
    "    .merge(lxx_df, how='left', left_on='merge_date', right_on='date')\\\n",
    "    .merge(res_df, how='left', left_on='merge_date', right_on='date').drop(['merge_date', 'date_x', 'date_y'], axis=1)\n",
    "    df_all.to_pickle('../input/all_data.p')\n",
    "    return df_all"
   ]
  },
  {
   "cell_type": "code",
   "execution_count": 3,
   "metadata": {
    "collapsed": false
   },
   "outputs": [],
   "source": [
    "if not os.path.isfile('../input/all_data.p'):\n",
    "    df = get_all_data()\n",
    "else:\n",
    "    df = pd.read_pickle('../input/all_data.p')"
   ]
  },
  {
   "cell_type": "code",
   "execution_count": 4,
   "metadata": {
    "collapsed": false
   },
   "outputs": [
    {
     "data": {
      "text/plain": [
       "Index([u'parcelid', u'airconditioningtypeid', u'architecturalstyletypeid',\n",
       "       u'basementsqft', u'bathroomcnt', u'bedroomcnt', u'buildingclasstypeid',\n",
       "       u'buildingqualitytypeid', u'calculatedbathnbr', u'decktypeid',\n",
       "       u'finishedfloor1squarefeet', u'calculatedfinishedsquarefeet',\n",
       "       u'finishedsquarefeet12', u'finishedsquarefeet13',\n",
       "       u'finishedsquarefeet15', u'finishedsquarefeet50',\n",
       "       u'finishedsquarefeet6', u'fips', u'fireplacecnt', u'fullbathcnt',\n",
       "       u'garagecarcnt', u'garagetotalsqft', u'hashottuborspa',\n",
       "       u'heatingorsystemtypeid', u'latitude', u'longitude',\n",
       "       u'lotsizesquarefeet', u'poolcnt', u'poolsizesum', u'pooltypeid10',\n",
       "       u'pooltypeid2', u'pooltypeid7', u'propertycountylandusecode',\n",
       "       u'propertylandusetypeid', u'propertyzoningdesc',\n",
       "       u'rawcensustractandblock', u'regionidcity', u'regionidcounty',\n",
       "       u'regionidneighborhood', u'regionidzip', u'roomcnt', u'storytypeid',\n",
       "       u'threequarterbathnbr', u'typeconstructiontypeid', u'unitcnt',\n",
       "       u'yardbuildingsqft17', u'yardbuildingsqft26', u'yearbuilt',\n",
       "       u'numberofstories', u'fireplaceflag', u'structuretaxvaluedollarcnt',\n",
       "       u'taxvaluedollarcnt', u'assessmentyear', u'landtaxvaluedollarcnt',\n",
       "       u'taxamount', u'taxdelinquencyflag', u'taxdelinquencyyear',\n",
       "       u'censustractandblock', u'logerror', u'transactiondate', u'schiller',\n",
       "       u'reserves'],\n",
       "      dtype='object')"
      ]
     },
     "execution_count": 4,
     "metadata": {},
     "output_type": "execute_result"
    }
   ],
   "source": [
    "df.columns"
   ]
  },
  {
   "cell_type": "markdown",
   "metadata": {},
   "source": [
    "dummy creation and some data cleansing"
   ]
  },
  {
   "cell_type": "code",
   "execution_count": 5,
   "metadata": {
    "collapsed": true
   },
   "outputs": [],
   "source": [
    "def create_dummies(df, cols):\n",
    "    return pd.get_dummies(df, columns=cols)"
   ]
  },
  {
   "cell_type": "code",
   "execution_count": 28,
   "metadata": {
    "collapsed": true
   },
   "outputs": [],
   "source": [
    "def create_missing(df, cols):\n",
    "    dfnew = df[cols].applymap(lambda v: 0 if pd.isnull(v) else 1).rename(columns=lambda v: 'miss_' + v)\n",
    "    return pd.concat([df, dfnew], axis=1)"
   ]
  },
  {
   "cell_type": "code",
   "execution_count": 7,
   "metadata": {
    "collapsed": true
   },
   "outputs": [],
   "source": [
    "def fill_zeroes(df, cols):\n",
    "    df[cols] = df[cols].fillna(0)\n",
    "    return df"
   ]
  },
  {
   "cell_type": "code",
   "execution_count": 8,
   "metadata": {
    "collapsed": true
   },
   "outputs": [],
   "source": [
    "def fill_means(df, cols):\n",
    "    means = df[cols].apply(np.mean)\n",
    "    return df.fillna(means)"
   ]
  },
  {
   "cell_type": "code",
   "execution_count": 9,
   "metadata": {
    "collapsed": true
   },
   "outputs": [],
   "source": [
    "def get_topn(df, cols, num_remain):\n",
    "    for c, num in zip(cols, num_remain):\n",
    "        topn = df.groupby(c).size().sort_values(ascending=False)[:num].index.values\n",
    "        df[c] = df[c].apply(lambda v: v if v in topn else np.nan)\n",
    "    return df"
   ]
  },
  {
   "cell_type": "code",
   "execution_count": 10,
   "metadata": {
    "collapsed": true
   },
   "outputs": [],
   "source": [
    "def date_to_num(df, cols):\n",
    "    min_dates = df[cols].apply(np.min)\n",
    "    for c in cols:\n",
    "        df['days_' + c] = df[c].apply(lambda v: (v - min_dates[c]).days)\n",
    "#         df.drop(c, axis=1)\n",
    "    return df"
   ]
  },
  {
   "cell_type": "code",
   "execution_count": 33,
   "metadata": {
    "collapsed": false
   },
   "outputs": [],
   "source": [
    "get_top_n = ['propertyzoningdesc']\n",
    "category = ['airconditioningtypeid', 'buildingqualitytypeid','heatingorsystemtypeid',\n",
    "            'propertylandusetypeid', 'hashottuborspa', 'taxdelinquencyflag'] + get_top_n\n",
    "missing = ['bathroomcnt', 'bedroomcnt', 'roomcnt', 'numberofstories', 'censustractandblock',\n",
    "                  'calculatedfinishedsquarefeet', 'finishedsquarefeet12', 'lotsizesquarefeet', 'garagecarcnt']\n",
    "zeroes = ['poolcnt', 'fullbathcnt']\n",
    "use_average = ['bathroomcnt' , 'bedroomcnt', 'finishedsquarefeet12', 'roomcnt', 'yearbuilt',\n",
    "              'assessmentyear', 'taxamount', 'lotsizesquarefeet', 'garagecarcnt', 'numberofstories']\n",
    "date_cols = ['transactiondate']\n",
    "\n",
    "keepcols = set(['parcelid', 'schiller', 'reserves'] + datecols + category + missing + zeroes + use_average)"
   ]
  },
  {
   "cell_type": "code",
   "execution_count": 34,
   "metadata": {
    "collapsed": false
   },
   "outputs": [],
   "source": [
    "df_clean = df.loc[:, keepcols]\\\n",
    ".pipe(get_topn, cols=get_top_n, num_remain=[1])\\\n",
    ".pipe(create_dummies, cols=category)\\\n",
    ".pipe(create_missing, cols=missing)\\\n",
    ".pipe(fill_zeroes, cols=zeroes)\\\n",
    ".pipe(fill_means, cols=use_average)\\\n",
    ".pipe(date_to_num, cols=date_cols)"
   ]
  },
  {
   "cell_type": "code",
   "execution_count": 35,
   "metadata": {
    "collapsed": false
   },
   "outputs": [],
   "source": [
    "#need to create the submission table\n",
    "dropcols = ['censustractandblock', 'calculatedfinishedsquarefeet']\n",
    "df_sorted = df_clean.sort_values('transactiondate').drop(dropcols, axis=1)\n"
   ]
  },
  {
   "cell_type": "code",
   "execution_count": 36,
   "metadata": {
    "collapsed": false
   },
   "outputs": [],
   "source": [
    "df_sorted.to_pickle('cleaned_data.p')"
   ]
  }
 ],
 "metadata": {
  "kernelspec": {
   "display_name": "Python 2",
   "language": "python",
   "name": "python2"
  },
  "language_info": {
   "codemirror_mode": {
    "name": "ipython",
    "version": 2
   },
   "file_extension": ".py",
   "mimetype": "text/x-python",
   "name": "python",
   "nbconvert_exporter": "python",
   "pygments_lexer": "ipython2",
   "version": "2.7.11"
  }
 },
 "nbformat": 4,
 "nbformat_minor": 0
}
