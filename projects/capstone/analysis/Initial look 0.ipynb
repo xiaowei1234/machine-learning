{
 "cells": [
  {
   "cell_type": "code",
   "execution_count": 2,
   "metadata": {
    "collapsed": true
   },
   "outputs": [],
   "source": [
    "import numpy as np\n",
    "import pandas as pd\n",
    "import os\n",
    "import matplotlib\n",
    "%matplotlib inline"
   ]
  },
  {
   "cell_type": "code",
   "execution_count": 11,
   "metadata": {
    "collapsed": false
   },
   "outputs": [
    {
     "name": "stderr",
     "output_type": "stream",
     "text": [
      "c:\\Users\\weixi51\\AppData\\Local\\Continuum\\Anaconda\\lib\\site-packages\\IPython\\core\\interactiveshell.py:2717: DtypeWarning: Columns (22,32,34,49,55) have mixed types. Specify dtype option on import or set low_memory=False.\n",
      "  interactivity=interactivity, compiler=compiler, result=result)\n"
     ]
    }
   ],
   "source": [
    "if not os.path.isfile('properties.p'):\n",
    "    df = pd.read_csv('../input/properties_2016.csv')\n",
    "else:\n",
    "    df = pd.read_pickle('properties.p')"
   ]
  },
  {
   "cell_type": "code",
   "execution_count": 3,
   "metadata": {
    "collapsed": true
   },
   "outputs": [],
   "source": [
    "objects = df.select_dtypes(include=['object'])"
   ]
  },
  {
   "cell_type": "code",
   "execution_count": 4,
   "metadata": {
    "collapsed": false
   },
   "outputs": [
    {
     "data": {
      "text/plain": [
       "Index([u'hashottuborspa', u'propertycountylandusecode', u'propertyzoningdesc',\n",
       "       u'fireplaceflag', u'taxdelinquencyflag'],\n",
       "      dtype='object')"
      ]
     },
     "execution_count": 4,
     "metadata": {},
     "output_type": "execute_result"
    }
   ],
   "source": [
    "objects.columns"
   ]
  },
  {
   "cell_type": "code",
   "execution_count": 7,
   "metadata": {
    "collapsed": false
   },
   "outputs": [],
   "source": [
    "num_rows = df.shape[0]\n",
    "nulls = df.apply(lambda v: np.sum(pd.isnull(v)))"
   ]
  },
  {
   "cell_type": "code",
   "execution_count": 10,
   "metadata": {
    "collapsed": false
   },
   "outputs": [],
   "source": [
    "nulls = nulls/num_rows"
   ]
  },
  {
   "cell_type": "code",
   "execution_count": 11,
   "metadata": {
    "collapsed": false
   },
   "outputs": [
    {
     "data": {
      "text/plain": [
       "parcelid                        0.000000\n",
       "airconditioningtypeid           0.728154\n",
       "architecturalstyletypeid        0.997970\n",
       "basementsqft                    0.999455\n",
       "bathroomcnt                     0.003840\n",
       "bedroomcnt                      0.003836\n",
       "buildingclasstypeid             0.995769\n",
       "buildingqualitytypeid           0.350637\n",
       "calculatedbathnbr               0.043183\n",
       "decktypeid                      0.994273\n",
       "finishedfloor1squarefeet        0.932093\n",
       "calculatedfinishedsquarefeet    0.018613\n",
       "finishedsquarefeet12            0.092467\n",
       "finishedsquarefeet13            0.997430\n",
       "finishedsquarefeet15            0.936086\n",
       "finishedsquarefeet50            0.932093\n",
       "finishedsquarefeet6             0.992630\n",
       "fips                            0.003831\n",
       "fireplacecnt                    0.895272\n",
       "fullbathcnt                     0.043183\n",
       "garagecarcnt                    0.704120\n",
       "garagetotalsqft                 0.704120\n",
       "hashottuborspa                  0.976881\n",
       "heatingorsystemtypeid           0.394885\n",
       "latitude                        0.003831\n",
       "longitude                       0.003831\n",
       "lotsizesquarefeet               0.092489\n",
       "poolcnt                         0.826634\n",
       "poolsizesum                     0.990634\n",
       "pooltypeid10                    0.987626\n",
       "pooltypeid2                     0.989255\n",
       "pooltypeid7                     0.837379\n",
       "propertycountylandusecode       0.004113\n",
       "propertylandusetypeid           0.003831\n",
       "propertyzoningdesc              0.337191\n",
       "rawcensustractandblock          0.003831\n",
       "regionidcity                    0.021052\n",
       "regionidcounty                  0.003831\n",
       "regionidneighborhood            0.612624\n",
       "regionidzip                     0.004683\n",
       "roomcnt                         0.003844\n",
       "storytypeid                     0.999456\n",
       "threequarterbathnbr             0.895609\n",
       "typeconstructiontypeid          0.997740\n",
       "unitcnt                         0.337572\n",
       "yardbuildingsqft17              0.973082\n",
       "yardbuildingsqft26              0.999113\n",
       "yearbuilt                       0.020075\n",
       "numberofstories                 0.771518\n",
       "fireplaceflag                   0.998270\n",
       "structuretaxvaluedollarcnt      0.018418\n",
       "taxvaluedollarcnt               0.014254\n",
       "assessmentyear                  0.003832\n",
       "landtaxvaluedollarcnt           0.022689\n",
       "taxamount                       0.010468\n",
       "taxdelinquencyflag              0.981086\n",
       "taxdelinquencyyear              0.981085\n",
       "censustractandblock             0.025166\n",
       "dtype: float64"
      ]
     },
     "execution_count": 11,
     "metadata": {},
     "output_type": "execute_result"
    }
   ],
   "source": [
    "nulls"
   ]
  },
  {
   "cell_type": "markdown",
   "metadata": {},
   "source": [
    "create when bathroom < 1\n",
    "create when calculatedfinishedsquarefeet < 200\n",
    "create when calculatedfinishedsquarefeet > 6000"
   ]
  },
  {
   "cell_type": "code",
   "execution_count": 23,
   "metadata": {
    "collapsed": true
   },
   "outputs": [],
   "source": [
    "create_missing = ['bathroomcnt', 'bedroomcnt', 'roomcnt', 'numberofstories', 'censustractandblock',\n",
    "                  'calculatedfinishedsquarefeet', 'finishedsquarefeet12', 'lotsizesquarefeet', 'yearbuilt', 'garagecarcnt']\n",
    "fill_zeros = ['hashottuborspa' 'poolcnt', 'taxdelinquencyflag', 'fullbathcnt']\n",
    "use_average = ['bathroomcnt' , 'bedroomcnt', 'calculatedfinishedsquarefeet', 'finishedsquarefeet12', 'roomcnt', 'yearbuilt',\n",
    "              'assessmentyear', 'taxamount']\n",
    "\n",
    "category = ['airconditioningtypeid', 'buildingqualitytypeid','heatingorsystemtypeid',\n",
    "            'propertylandusetypeid']\n",
    "get_top_n = ['propertyzoningdesc', 'propertycountylandusecode']"
   ]
  },
  {
   "cell_type": "code",
   "execution_count": 27,
   "metadata": {
    "collapsed": false
   },
   "outputs": [
    {
     "data": {
      "text/plain": [
       "bathroomcnt\n",
       "0.0     43881\n",
       "1.0       140\n",
       "1.5         6\n",
       "2.0        53\n",
       "2.5         1\n",
       "3.0        21\n",
       "3.5         1\n",
       "4.0         6\n",
       "4.5         1\n",
       "5.0         5\n",
       "6.0         3\n",
       "7.0         1\n",
       "10.0        1\n",
       "dtype: int64"
      ]
     },
     "execution_count": 27,
     "metadata": {},
     "output_type": "execute_result"
    }
   ],
   "source": [
    "df.loc[pd.isnull(df.calculatedfinishedsquarefeet) & pd.notnull(df.bathroomcnt), ['bathroomcnt']].groupby('bathroomcnt').size()"
   ]
  },
  {
   "cell_type": "code",
   "execution_count": 62,
   "metadata": {
    "collapsed": false
   },
   "outputs": [
    {
     "data": {
      "text/plain": [
       "<matplotlib.axes._subplots.AxesSubplot at 0xb170e7f0>"
      ]
     },
     "execution_count": 62,
     "metadata": {},
     "output_type": "execute_result"
    },
    {
     "data": {
      "image/png": "[encoded data removed]",
      "text/plain": [
       "<matplotlib.figure.Figure at 0x15fde7a58>"
      ]
     },
     "metadata": {},
     "output_type": "display_data"
    }
   ],
   "source": [
    "df.calculatedfinishedsquarefeet[(df.calculatedfinishedsquarefeet <10000)].hist()"
   ]
  },
  {
   "cell_type": "code",
   "execution_count": 27,
   "metadata": {
    "collapsed": false
   },
   "outputs": [],
   "source": [
    "def check_distr(df, column):\n",
    "    sizes = df.groupby(column).size()\n",
    "    the_sum = sizes.sum()\n",
    "    return sizes.apply(lambda v: float(v)/the_sum).sort_values(ascending=False).head(10)"
   ]
  },
  {
   "cell_type": "code",
   "execution_count": 28,
   "metadata": {
    "collapsed": false
   },
   "outputs": [
    {
     "data": {
      "text/plain": [
       "propertyzoningdesc\n",
       "LAR1       0.139000\n",
       "LAR3       0.033915\n",
       "LARS       0.027726\n",
       "LBR1N      0.026660\n",
       "LAR2       0.024668\n",
       "LARD1.5    0.020163\n",
       "SCUR2      0.015394\n",
       "LARD2      0.015353\n",
       "TORR-LO    0.013460\n",
       "LARA       0.013192\n",
       "dtype: float64"
      ]
     },
     "execution_count": 28,
     "metadata": {},
     "output_type": "execute_result"
    }
   ],
   "source": [
    "check_distr(df, 'propertyzoningdesc')"
   ]
  },
  {
   "cell_type": "code",
   "execution_count": 29,
   "metadata": {
    "collapsed": false
   },
   "outputs": [
    {
     "data": {
      "text/plain": [
       "censustractandblock\n",
       "6.037920e+13    0.000402\n",
       "6.037137e+13    0.000303\n",
       "6.037920e+13    0.000279\n",
       "6.059063e+13    0.000277\n",
       "6.059052e+13    0.000277\n",
       "6.037277e+13    0.000275\n",
       "6.037920e+13    0.000268\n",
       "6.111007e+13    0.000263\n",
       "6.037577e+13    0.000259\n",
       "6.059052e+13    0.000248\n",
       "dtype: float64"
      ]
     },
     "execution_count": 29,
     "metadata": {},
     "output_type": "execute_result"
    }
   ],
   "source": [
    "check_distr(df, 'censustractandblock')"
   ]
  },
  {
   "cell_type": "code",
   "execution_count": 30,
   "metadata": {
    "collapsed": false
   },
   "outputs": [
    {
     "data": {
      "text/plain": [
       "propertycountylandusecode\n",
       "0100    0.388133\n",
       "122     0.175633\n",
       "0101    0.083249\n",
       "010C    0.075821\n",
       "1111    0.042547\n",
       "34      0.041457\n",
       "0200    0.035188\n",
       "010D    0.020351\n",
       "1       0.020238\n",
       "010E    0.017147\n",
       "dtype: float64"
      ]
     },
     "execution_count": 30,
     "metadata": {},
     "output_type": "execute_result"
    }
   ],
   "source": [
    "check_distr(df, 'propertycountylandusecode')"
   ]
  }
 ],
 "metadata": {
  "kernelspec": {
   "display_name": "Python 2",
   "language": "python",
   "name": "python2"
  },
  "language_info": {
   "codemirror_mode": {
    "name": "ipython",
    "version": 2
   },
   "file_extension": ".py",
   "mimetype": "text/x-python",
   "name": "python",
   "nbconvert_exporter": "python",
   "pygments_lexer": "ipython2",
   "version": "2.7.11"
  }
 },
 "nbformat": 4,
 "nbformat_minor": 2
}
