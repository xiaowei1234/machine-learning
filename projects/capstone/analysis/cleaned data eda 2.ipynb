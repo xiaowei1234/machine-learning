{
 "cells": [
  {
   "cell_type": "code",
   "execution_count": 1,
   "metadata": {
    "collapsed": false
   },
   "outputs": [],
   "source": [
    "import pandas as pd\n",
    "from matplotlib.pylab import plt\n",
    "import numpy as np\n",
    "%matplotlib inline"
   ]
  },
  {
   "cell_type": "code",
   "execution_count": 48,
   "metadata": {
    "collapsed": false
   },
   "outputs": [],
   "source": [
    "df = pd.read_pickle('cleaned_data.p')"
   ]
  },
  {
   "cell_type": "code",
   "execution_count": 32,
   "metadata": {
    "collapsed": false
   },
   "outputs": [
    {
     "name": "stdout",
     "output_type": "stream",
     "text": [
      "numberofstories         float64\n",
      "poolcnt                 float64\n",
      "reserves                float64\n",
      "roomcnt                 float64\n",
      "bedroomcnt              float64\n",
      "taxamount               float64\n",
      "schiller                float64\n",
      "assessmentyear          float64\n",
      "bathroomcnt             float64\n",
      "garagecarcnt            float64\n",
      "fullbathcnt             float64\n",
      "finishedsquarefeet12    float64\n",
      "lotsizesquarefeet       float64\n",
      "dtype: object\n"
     ]
    }
   ],
   "source": [
    "dont_eda = ['yearbuilt', 'transactiondate', 'parcelid']\n",
    "\n",
    "continuous = filter(lambda v: '_' not in v and v not in dont_eda, df.columns)\n",
    "df_cont = df[continuous]\n",
    "print df_cont.dtypes"
   ]
  },
  {
   "cell_type": "code",
   "execution_count": 46,
   "metadata": {
    "collapsed": false
   },
   "outputs": [
    {
     "name": "stdout",
     "output_type": "stream",
     "text": [
      "[('numberofstories', 1.48), ('poolcnt', 1.52), ('reserves', -1.84), ('roomcnt', 1.55), ('bedroomcnt', 0.76), ('taxamount', 10.38), ('schiller', 1.13), ('assessmentyear', 0.0), ('bathroomcnt', 1.29), ('garagecarcnt', 6.15), ('fullbathcnt', 1.28), ('finishedsquarefeet12', 2.88), ('lotsizesquarefeet', 28.1)]\n"
     ]
    }
   ],
   "source": [
    "from scipy.stats import skew\n",
    "print zip(df_cont.columns, map(lambda v: round(v, 2), skew(df_cont)))"
   ]
  },
  {
   "cell_type": "code",
   "execution_count": 49,
   "metadata": {
    "collapsed": false
   },
   "outputs": [],
   "source": [
    "def logcols(df, cols):\n",
    "    df[cols] = df[cols].applymap(lambda v: np.log(v+1))\n",
    "    return df"
   ]
  },
  {
   "cell_type": "code",
   "execution_count": 50,
   "metadata": {
    "collapsed": false
   },
   "outputs": [],
   "source": [
    "df_normal = df.pipe(logcols, cols=['taxamount', 'garagecarcnt', 'finishedsquarefeet12', 'lotsizesquarefeet'])"
   ]
  },
  {
   "cell_type": "code",
   "execution_count": null,
   "metadata": {
    "collapsed": true
   },
   "outputs": [],
   "source": []
  }
 ],
 "metadata": {
  "kernelspec": {
   "display_name": "Python 2",
   "language": "python",
   "name": "python2"
  },
  "language_info": {
   "codemirror_mode": {
    "name": "ipython",
    "version": 2
   },
   "file_extension": ".py",
   "mimetype": "text/x-python",
   "name": "python",
   "nbconvert_exporter": "python",
   "pygments_lexer": "ipython2",
   "version": "2.7.11"
  }
 },
 "nbformat": 4,
 "nbformat_minor": 0
}
