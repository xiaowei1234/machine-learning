{
 "cells": [
  {
   "cell_type": "code",
   "execution_count": 1,
   "metadata": {
    "collapsed": true
   },
   "outputs": [],
   "source": [
    "import pandas as pd\n",
    "from matplotlib.pylab import plt\n",
    "import numpy as np\n",
    "%matplotlib inline\n",
    "from sklearn.externals import joblib"
   ]
  },
  {
   "cell_type": "code",
   "execution_count": 2,
   "metadata": {
    "collapsed": true
   },
   "outputs": [],
   "source": [
    "df = pd.read_pickle('cleaned_data.p')"
   ]
  },
  {
   "cell_type": "code",
   "execution_count": 3,
   "metadata": {
    "collapsed": false
   },
   "outputs": [
    {
     "data": {
      "text/plain": [
       "(90811, 70)"
      ]
     },
     "execution_count": 3,
     "metadata": {},
     "output_type": "execute_result"
    }
   ],
   "source": [
    "df.shape"
   ]
  },
  {
   "cell_type": "code",
   "execution_count": 4,
   "metadata": {
    "collapsed": false
   },
   "outputs": [
    {
     "data": {
      "text/plain": [
       "Index([u'numberofstories', u'logerror', u'poolcnt', u'reserves', u'yearbuilt',\n",
       "       u'roomcnt', u'bedroomcnt', u'taxamount', u'schiller', u'assessmentyear',\n",
       "       u'parcelid', u'bathroomcnt', u'garagecarcnt', u'fullbathcnt',\n",
       "       u'transactiondate', u'finishedsquarefeet12', u'lotsizesquarefeet',\n",
       "       u'airconditioningtypeid_1.0', u'airconditioningtypeid_3.0',\n",
       "       u'airconditioningtypeid_5.0', u'airconditioningtypeid_9.0',\n",
       "       u'airconditioningtypeid_11.0', u'airconditioningtypeid_13.0',\n",
       "       u'buildingqualitytypeid_1.0', u'buildingqualitytypeid_4.0',\n",
       "       u'buildingqualitytypeid_6.0', u'buildingqualitytypeid_7.0',\n",
       "       u'buildingqualitytypeid_8.0', u'buildingqualitytypeid_10.0',\n",
       "       u'buildingqualitytypeid_11.0', u'buildingqualitytypeid_12.0',\n",
       "       u'heatingorsystemtypeid_1.0', u'heatingorsystemtypeid_2.0',\n",
       "       u'heatingorsystemtypeid_6.0', u'heatingorsystemtypeid_7.0',\n",
       "       u'heatingorsystemtypeid_10.0', u'heatingorsystemtypeid_11.0',\n",
       "       u'heatingorsystemtypeid_12.0', u'heatingorsystemtypeid_13.0',\n",
       "       u'heatingorsystemtypeid_14.0', u'heatingorsystemtypeid_18.0',\n",
       "       u'heatingorsystemtypeid_20.0', u'heatingorsystemtypeid_24.0',\n",
       "       u'propertylandusetypeid_31.0', u'propertylandusetypeid_47.0',\n",
       "       u'propertylandusetypeid_246.0', u'propertylandusetypeid_247.0',\n",
       "       u'propertylandusetypeid_248.0', u'propertylandusetypeid_260.0',\n",
       "       u'propertylandusetypeid_261.0', u'propertylandusetypeid_263.0',\n",
       "       u'propertylandusetypeid_264.0', u'propertylandusetypeid_265.0',\n",
       "       u'propertylandusetypeid_266.0', u'propertylandusetypeid_267.0',\n",
       "       u'propertylandusetypeid_269.0', u'propertylandusetypeid_275.0',\n",
       "       u'hashottuborspa_True', u'taxdelinquencyflag_Y',\n",
       "       u'propertyzoningdesc_LAR1', u'miss_bathroomcnt', u'miss_bedroomcnt',\n",
       "       u'miss_roomcnt', u'miss_numberofstories', u'miss_censustractandblock',\n",
       "       u'miss_calculatedfinishedsquarefeet', u'miss_finishedsquarefeet12',\n",
       "       u'miss_lotsizesquarefeet', u'miss_garagecarcnt',\n",
       "       u'days_transactiondate'],\n",
       "      dtype='object')"
      ]
     },
     "execution_count": 4,
     "metadata": {},
     "output_type": "execute_result"
    }
   ],
   "source": [
    "df.columns"
   ]
  },
  {
   "cell_type": "code",
   "execution_count": 5,
   "metadata": {
    "collapsed": false
   },
   "outputs": [],
   "source": [
    "df_model = df.set_index(['transactiondate', 'parcelid']).sort_index()"
   ]
  },
  {
   "cell_type": "code",
   "execution_count": 6,
   "metadata": {
    "collapsed": false
   },
   "outputs": [
    {
     "data": {
      "text/plain": [
       "array([dtype('float64'), dtype('uint8'), dtype('int64')], dtype=object)"
      ]
     },
     "execution_count": 6,
     "metadata": {},
     "output_type": "execute_result"
    }
   ],
   "source": [
    "df_model.dtypes.unique()"
   ]
  },
  {
   "cell_type": "markdown",
   "metadata": {},
   "source": [
    "make X and y and scale X to between 0 and 1 inclusive"
   ]
  },
  {
   "cell_type": "code",
   "execution_count": 7,
   "metadata": {
    "collapsed": false
   },
   "outputs": [],
   "source": [
    "from sklearn.preprocessing import MinMaxScaler\n",
    "scaler = MinMaxScaler()"
   ]
  },
  {
   "cell_type": "code",
   "execution_count": 12,
   "metadata": {
    "collapsed": true
   },
   "outputs": [],
   "source": [
    "y = df_model.logerror.values\n",
    "df_X = df_model.drop('logerror', axis=1)\n",
    "X = scaler.fit_transform(df_X)\n",
    "df_X.to_pickle('df_X.p')"
   ]
  },
  {
   "cell_type": "code",
   "execution_count": 11,
   "metadata": {
    "collapsed": true
   },
   "outputs": [],
   "source": [
    "np.save('y', y)\n",
    "np.save('X', X)"
   ]
  },
  {
   "cell_type": "markdown",
   "metadata": {},
   "source": [
    "split into train test for baseline model"
   ]
  },
  {
   "cell_type": "code",
   "execution_count": 9,
   "metadata": {
    "collapsed": false
   },
   "outputs": [],
   "source": [
    "from sklearn.model_selection import TimeSeriesSplit\n",
    "tss = TimeSeriesSplit(n_splits=2)"
   ]
  },
  {
   "cell_type": "code",
   "execution_count": 10,
   "metadata": {
    "collapsed": false
   },
   "outputs": [],
   "source": [
    "train_idx, test_idx = tss.split(X).next()"
   ]
  },
  {
   "cell_type": "code",
   "execution_count": 11,
   "metadata": {
    "collapsed": false
   },
   "outputs": [],
   "source": [
    "X_train = X[train_idx]\n",
    "y_train = y[train_idx]\n",
    "X_test = X[test_idx]\n",
    "y_test = y[test_idx]"
   ]
  },
  {
   "cell_type": "code",
   "execution_count": 12,
   "metadata": {
    "collapsed": false
   },
   "outputs": [],
   "source": [
    "from sklearn.ensemble import RandomForestRegressor\n",
    "rfr = RandomForestRegressor(criterion='mse', max_depth=20)"
   ]
  },
  {
   "cell_type": "code",
   "execution_count": 13,
   "metadata": {
    "collapsed": false
   },
   "outputs": [
    {
     "data": {
      "text/plain": [
       "RandomForestRegressor(bootstrap=True, criterion='mse', max_depth=20,\n",
       "           max_features='auto', max_leaf_nodes=None,\n",
       "           min_impurity_split=1e-07, min_samples_leaf=1,\n",
       "           min_samples_split=2, min_weight_fraction_leaf=0.0,\n",
       "           n_estimators=10, n_jobs=1, oob_score=False, random_state=None,\n",
       "           verbose=0, warm_start=False)"
      ]
     },
     "execution_count": 13,
     "metadata": {},
     "output_type": "execute_result"
    }
   ],
   "source": [
    "rfr.fit(X_train, y_train)"
   ]
  },
  {
   "cell_type": "code",
   "execution_count": 14,
   "metadata": {
    "collapsed": false
   },
   "outputs": [
    {
     "data": {
      "text/plain": [
       "['baseline_rfr_model.pkl']"
      ]
     },
     "execution_count": 14,
     "metadata": {},
     "output_type": "execute_result"
    }
   ],
   "source": [
    "joblib.dump(rfr, 'baseline_rfr_model.pkl')"
   ]
  },
  {
   "cell_type": "code",
   "execution_count": 15,
   "metadata": {
    "collapsed": true
   },
   "outputs": [],
   "source": [
    "predictions = rfr.predict(X_test)"
   ]
  },
  {
   "cell_type": "code",
   "execution_count": 16,
   "metadata": {
    "collapsed": true
   },
   "outputs": [],
   "source": [
    "from sklearn.metrics import mean_absolute_error\n",
    "baseline_error_train = mean_absolute_error(y_train, rfr.predict(X_train))\n",
    "baseline_error_test = mean_absolute_error(y_test, predictions)"
   ]
  },
  {
   "cell_type": "code",
   "execution_count": 17,
   "metadata": {
    "collapsed": false
   },
   "outputs": [
    {
     "name": "stdout",
     "output_type": "stream",
     "text": [
      "0.0638212503731\n",
      "0.105014553838\n"
     ]
    }
   ],
   "source": [
    "print baseline_error_train\n",
    "print baseline_error_test"
   ]
  },
  {
   "cell_type": "code",
   "execution_count": 18,
   "metadata": {
    "collapsed": false
   },
   "outputs": [
    {
     "data": {
      "text/plain": [
       "0.066929643211100107"
      ]
     },
     "execution_count": 18,
     "metadata": {},
     "output_type": "execute_result"
    }
   ],
   "source": [
    "mean_absolute_error(y_test, np.repeat(0.0, len(y_test)))"
   ]
  },
  {
   "cell_type": "code",
   "execution_count": 3,
   "metadata": {
    "collapsed": true
   },
   "outputs": [],
   "source": [
    "rfr = joblib.load('baseline_rfr_model.pkl')"
   ]
  },
  {
   "cell_type": "code",
   "execution_count": 18,
   "metadata": {
    "collapsed": false
   },
   "outputs": [],
   "source": [
    "importances = pd.DataFrame(zip(df_model.drop('logerror', axis=1).columns,\n",
    "                               rfr.feature_importances_), columns=['feature', 'importance'])"
   ]
  },
  {
   "cell_type": "code",
   "execution_count": 25,
   "metadata": {
    "collapsed": false
   },
   "outputs": [],
   "source": [
    "top20 = importances.sort_values('importance', ascending=False).set_index('feature')[:20]"
   ]
  },
  {
   "cell_type": "code",
   "execution_count": 28,
   "metadata": {
    "collapsed": false
   },
   "outputs": [
    {
     "data": {
      "text/plain": [
       "<matplotlib.axes._subplots.AxesSubplot at 0xf1c1d30>"
      ]
     },
     "execution_count": 28,
     "metadata": {},
     "output_type": "execute_result"
    },
    {
     "data": {
      "image/png": "[encoded data removed]",
      "text/plain": [
       "<matplotlib.figure.Figure at 0xc51a550>"
      ]
     },
     "metadata": {},
     "output_type": "display_data"
    }
   ],
   "source": [
    "top20.plot(kind='bar', figsize=(12, 4))"
   ]
  },
  {
   "cell_type": "code",
   "execution_count": null,
   "metadata": {
    "collapsed": true
   },
   "outputs": [],
   "source": []
  }
 ],
 "metadata": {
  "kernelspec": {
   "display_name": "Python 2",
   "language": "python",
   "name": "python2"
  },
  "language_info": {
   "codemirror_mode": {
    "name": "ipython",
    "version": 2
   },
   "file_extension": ".py",
   "mimetype": "text/x-python",
   "name": "python",
   "nbconvert_exporter": "python",
   "pygments_lexer": "ipython2",
   "version": "2.7.11"
  }
 },
 "nbformat": 4,
 "nbformat_minor": 0
}
